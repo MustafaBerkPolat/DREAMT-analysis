{
 "cells": [
  {
   "cell_type": "code",
   "execution_count": null,
   "id": "d9eab851-85b1-4e05-9706-eea0d26b204c",
   "metadata": {},
   "outputs": [],
   "source": [
    "import pandas as pd\n",
    "import os\n",
    "import numpy as np\n",
    "import matplotlib.pyplot as plt\n",
    "import seaborn as sns\n",
    "import itertools as it"
   ]
  },
  {
   "cell_type": "code",
   "execution_count": null,
   "id": "c31c1a6d-6b4d-40ef-b726-8b3b5763c974",
   "metadata": {},
   "outputs": [],
   "source": [
    "dataset_folder = r'C:\\Users\\mpola\\OneDrive\\Desktop\\Career\\Proje\\DREAMT\\dataset'\n",
    "clean_data_folder = dataset_folder + '\\\\clean_data'\n",
    "\n",
    "df_participants = pd.read_csv(f'{clean_data_folder}\\\\df_participants.csv')\n",
    "\n",
    "df_sleep_disorders = pd.read_csv(f'{clean_data_folder}\\\\df_sleep_disorders.csv')\n",
    "\n",
    "df_medical_history = pd.read_csv(f'{clean_data_folder}\\\\df_medical_history.csv')\n",
    "\n",
    "df_stats = pd.read_csv(f'{clean_data_folder}\\\\df_aggregate.csv')"
   ]
  },
  {
   "cell_type": "code",
   "execution_count": null,
   "id": "968189d3-f70c-46d1-bdcb-1c0d6837d9f6",
   "metadata": {},
   "outputs": [],
   "source": [
    "# This box is to define the palettes used so that the field-based coloring is consistent accross graphs\n",
    "\n",
    "gender_palette = {'M': 'darkblue', 'F': 'coral'}\n",
    "gender_order = ['M', 'F']\n",
    "\n",
    "ny_palette = {'1': 'red', '0': 'limegreen'}\n",
    "ny_order = ['1', '0']"
   ]
  },
  {
   "cell_type": "code",
   "execution_count": null,
   "id": "32c3dcc9-2301-4e35-9f48-35a9f224e9ea",
   "metadata": {},
   "outputs": [],
   "source": [
    "# It is also useful to define lists that contain the different medical history and sleep disorder conditions separately, since\n",
    "# we might want to filter which columns to include in our graphs\n",
    "\n",
    "mh_list = df_medical_history['Medical History'].unique().tolist()\n",
    "sd_list = df_sleep_disorders['Sleep Disorders'].unique().tolist()\n",
    "conditions_list = mh_list + sd_list"
   ]
  },
  {
   "cell_type": "markdown",
   "id": "d49e7e4c-3e45-4a29-8e83-f1c00b0a33eb",
   "metadata": {
    "jp-MarkdownHeadingCollapsed": true
   },
   "source": [
    "Bar Charts\n",
    "---"
   ]
  },
  {
   "cell_type": "markdown",
   "id": "37253f15-ba83-42dc-a5bf-7b10e034cc05",
   "metadata": {},
   "source": [
    "Bar Chart for Sleep Disorders by Occurence in Participants\n",
    "-"
   ]
  },
  {
   "cell_type": "code",
   "execution_count": null,
   "id": "a5bad5b0-fd22-4232-b504-0420c251ef6b",
   "metadata": {},
   "outputs": [],
   "source": [
    "# Grouping by gender to draw a bar graph where we can compare gender-based distribution\n",
    "sd_sums = df_participants.groupby('Gender')[sd_list].sum().reset_index()\n",
    "\n",
    "# Reshaping it into 'long' format to work with seaborn\n",
    "plot_data = sd_sums.melt(id_vars='Gender', var_name='column', value_name='sum')\n",
    "\n",
    "# Sorting the data in descending order for better comparison\n",
    "plot_data = plot_data.sort_values(by='sum', ascending=False)\n",
    "\n",
    "# Creating the bar plot\n",
    "plt.figure(figsize=(12, 6))\n",
    "ax = sns.barplot(data=plot_data, x='column', y='sum', hue='Gender', palette=gender_palette, hue_order=gender_order)\n",
    "\n",
    "# Adding the y-value labels to the bars\n",
    "for container in ax.containers:\n",
    "    ax.bar_label(container)\n",
    "    \n",
    "# Adding the titles and labels, and rotating the x-ticks to fit\n",
    "plt.title('Sleep Disorders by Occurence in Participants')\n",
    "\n",
    "plt.xlabel('Sleep Disorders')\n",
    "plt.ylabel('Count of Participants')\n",
    "\n",
    "# Wrapping and rotating the labels so that they're easily readable and dont overlap\n",
    "wrapped_labels = [label.replace(' ', '\\n') for label in sd_list]\n",
    "\n",
    "ax.set_xticks(range(len(wrapped_labels)))\n",
    "ax.set_xticklabels(wrapped_labels)\n",
    "plt.xticks(rotation=45)\n",
    "\n",
    "plt.show()\n",
    "\n"
   ]
  },
  {
   "cell_type": "markdown",
   "id": "c648b214-b65c-462b-8c76-8b9d7acf65af",
   "metadata": {},
   "source": [
    "Bar Chart for Medical Disorder History by Occurence in Participants\n",
    "-"
   ]
  },
  {
   "cell_type": "code",
   "execution_count": null,
   "id": "490eee53-636b-40e2-823d-33be1900a962",
   "metadata": {},
   "outputs": [],
   "source": [
    "# Grouping by gender to draw a bar graph where we can compare gender-based distribution\n",
    "mh_sums = df_participants.groupby('Gender')[mh_list].sum().reset_index()\n",
    "\n",
    "# Reshaping it into 'long' format to work with seaborn\n",
    "plot_data = mh_sums.melt(id_vars='Gender', var_name='column', value_name='sum')\n",
    "\n",
    "# Sorting the data in descending order for better comparison\n",
    "plot_data = plot_data.sort_values(by='sum', ascending=False)\n",
    "\n",
    "# Creating the bar plot\n",
    "plt.figure(figsize=(12, 6))\n",
    "ax = sns.barplot(data=plot_data, x='column', y='sum', hue='Gender', palette=gender_palette, hue_order=gender_order)\n",
    "\n",
    "# Adding the y-value labels to the bars\n",
    "for container in ax.containers:\n",
    "    ax.bar_label(container)\n",
    "    \n",
    "# Adding the titles and labels, and rotating the x-ticks to fit\n",
    "plt.title('Medical Disorder History by Occurence in Participants')\n",
    "\n",
    "plt.xlabel('Medical Disorders')\n",
    "plt.ylabel('Count of Participants')\n",
    "\n",
    "# Wrapping and rotating the labels so that they're easily readable and dont overlap\n",
    "wrapped_labels = [label.replace(' ', '\\n') for label in mh_list]\n",
    "\n",
    "ax.set_xticks(range(len(wrapped_labels)))\n",
    "ax.set_xticklabels(wrapped_labels)\n",
    "plt.xticks(rotation=45)\n",
    "\n",
    "plt.show()"
   ]
  },
  {
   "cell_type": "markdown",
   "id": "e529aa80-0c86-48fd-893c-dfc029b7e163",
   "metadata": {
    "jp-MarkdownHeadingCollapsed": true
   },
   "source": [
    "Box Charts\n",
    "---"
   ]
  },
  {
   "cell_type": "markdown",
   "id": "8427f625-9bfd-495f-9da1-8fad3053227c",
   "metadata": {},
   "source": [
    "Apnea-Hypopnea Index Distribution by Sleep Disorders \n",
    "-"
   ]
  },
  {
   "cell_type": "code",
   "execution_count": null,
   "id": "dc00d056-e352-4515-a35c-38364927cadb",
   "metadata": {
    "scrolled": true
   },
   "outputs": [],
   "source": [
    "# List of sleep disorder columns\n",
    "# Set up the figure with subplots for each sleep disorder\n",
    "plt.figure(figsize=(15, 24))\n",
    "\n",
    "# wrapped_labels = [label.replace(' ', '\\n') for label in sd_list]\n",
    "\n",
    "# Create boxplots for each sleep disorder\n",
    "for i, sd_col in enumerate(sd_list):\n",
    "    plt.subplot(5, len(sd_list) // 5 , i+1)  # Adjust the layout (5 rows, 3 columns)\n",
    "\n",
    "    # Using boxplot like this, Seaborn gives a warning regarding passing palette without assigning hue, but assiging hue to the same variable as \n",
    "    # the x axis gives out another error that prevents the graphs from rendering, so it is left like this\n",
    "    ax = sns.boxplot(data=df_participants, x=sd_col, y='AHI', legend=False, palette=ny_palette, hue_order=ny_order)\n",
    "    ax.set_xticks(range(2))\n",
    "    ax.set_xticklabels(['No', 'Yes'])\n",
    "    \n",
    "    plt.title(f'AHI for {sd_col}')\n",
    "    plt.xlabel('')\n",
    "    plt.ylabel('AHI')\n",
    "\n",
    "plt.tight_layout()  # Adjust subplots to fit into the figure area\n",
    "plt.show()"
   ]
  },
  {
   "cell_type": "markdown",
   "id": "cf73fc24-a431-46b9-aa48-99da6e06ca62",
   "metadata": {},
   "source": [
    "Apnea-Hypopnea Index Distribution by Medical Conditions\n",
    "-"
   ]
  },
  {
   "cell_type": "code",
   "execution_count": null,
   "id": "c375384c-7e56-4916-a48b-7ff823bb245f",
   "metadata": {},
   "outputs": [],
   "source": [
    "# List of sleep disorder columns\n",
    "# Set up the figure with subplots for each sleep disorder\n",
    "plt.figure(figsize=(15, 24))\n",
    "\n",
    "# wrapped_labels = [label.replace(' ', '\\n') for label in sd_list]\n",
    "\n",
    "# Create boxplots for each sleep disorder\n",
    "for i, mh_col in enumerate(mh_list):\n",
    "    plt.subplot(4, len(mh_list) // 4 , i+1)  # Adjust the layout (5 rows, 3 columns)\n",
    "\n",
    "    # Using boxplot like this, Seaborn gives a warning regarding passing palette without assigning hue, but assiging hue to the same variable as \n",
    "    # the x axis gives out another error that prevents the graphs from rendering, so it is left like this\n",
    "    ax = sns.boxplot(data=df_participants, x=mh_col, y='AHI', legend=False, palette=ny_palette, hue_order=ny_order)\n",
    "    ax.set_xticks(range(2))\n",
    "    ax.set_xticklabels(['No', 'Yes'])\n",
    "    \n",
    "    plt.title(f'AHI for {mh_col}')\n",
    "    plt.xlabel('')\n",
    "    plt.ylabel('AHI')\n",
    "\n",
    "plt.tight_layout()  # Adjust subplots to fit into the figure area\n",
    "plt.show()"
   ]
  },
  {
   "cell_type": "markdown",
   "id": "45c4c57a-3128-4c9a-b3af-f0bbec11d4bd",
   "metadata": {},
   "source": [
    "Correlation Heatmaps\n",
    "---"
   ]
  },
  {
   "cell_type": "code",
   "execution_count": null,
   "id": "e622fae5-07bd-486d-8478-1f9a3cc66af3",
   "metadata": {},
   "outputs": [],
   "source": [
    "# There are a lot of different measurements in this dataset, and trying to render out all of them in a singular heatmap would be\n",
    "# incomprehensible, but segmenting them into multiple graphs would either force us to leave out some potential connections or spread out the\n",
    "# information into too many graphs, so we use a function to filter out only columns that have strong correlation with one another to render\n",
    "# the graphs to avoid these issues.\n",
    "\n",
    "##################################################\n",
    "def corr_test(df, threshold):\n",
    "    passed = set()\n",
    "    for (r,c) in it.combinations(df.columns, 2):\n",
    "        if (abs(df.loc[r,c]) >= threshold):\n",
    "            passed.add(r)\n",
    "            passed.add(c)\n",
    "    passed = sorted(passed)\n",
    "    return df.loc[passed,passed]\n",
    "##################################################"
   ]
  },
  {
   "cell_type": "code",
   "execution_count": null,
   "id": "0946334d-34d9-4401-809a-9272413fc994",
   "metadata": {
    "scrolled": true
   },
   "outputs": [],
   "source": [
    "# The heatmaps are split into groupings based on the sleep stages, since there is no healthy comparison to be made for measurements\n",
    "# throughout the stages with the data we have. Creating a separate dataframe that tracks the difference of these statistics between stages\n",
    "# might result in useful insights, but some of these stages last for such short durations that the sample size might not be enough for\n",
    "# healthy observation (this research already only has 100 participants)\n",
    "\n",
    "##################################################\n",
    "def corr_heatmap(corr, threshold, title, fig_size = 16):\n",
    "    wrapped_labels = [label.replace(' ', '\\n') for label in corr_test(corr, threshold).columns]\n",
    "\n",
    "    matrix = np.triu(np.ones_like(corr_test(corr, threshold)))\n",
    "    \n",
    "    plt.figure(figsize = (fig_size, fig_size))\n",
    "    sns.heatmap(corr_test(corr, threshold), \n",
    "                annot= True,\n",
    "                cmap = 'mako',\n",
    "                #mask = matrix\n",
    "               )\n",
    "    plt.title(title)\n",
    "\n",
    "    plt.xticks(rotation = 90, \n",
    "               ticks = np.arange(len(wrapped_labels)) + 0.5, \n",
    "               labels= wrapped_labels)\n",
    "    plt.yticks(rotation = 0, \n",
    "               ticks = np.arange(len(wrapped_labels)) + 0.5, \n",
    "               labels= wrapped_labels)\n",
    "    return plt\n",
    "##################################################"
   ]
  },
  {
   "cell_type": "code",
   "execution_count": null,
   "id": "303abc98-8646-4989-b156-518cdd3bc147",
   "metadata": {},
   "outputs": [],
   "source": [
    "# Some of the columns in the participants dataframe store numerical data in string formats, and must be converted in order to use them in\n",
    "# correlation heatmaps. \n",
    "\n",
    "df_temp = pd.DataFrame(df_participants)\n",
    "gender_map = {'M': 1, 'F': -1}\n",
    "df_temp['Gender'] = df_temp['Gender'].map(gender_map)\n",
    "df_temp['Mean SaO2'] = df_temp['Mean SaO2'].str.rstrip('%').astype('float') / 100.0\n",
    "\n",
    "# Afterwards, we merge the participants dataframe with our aggregate information dataframe so that we can correlate the measured data\n",
    "# with the medical conditions\n",
    "\n",
    "df_temp.set_index('SID')\n",
    "\n",
    "# participant_measure_count = df_agg.groupby('SID').size()\n",
    "\n",
    "# We drop the data tracking the minimum and the maximum columns, as they complicate the graphs too much without revealing useful insight by themselves\n",
    "# min_max_cols = df_temp.columns[df_temp.columns.str.contains('Min|Max')]\n",
    "df_temp_stats = pd.DataFrame(df_stats)\n",
    "\n",
    "df_temp_stats = df_temp_stats.drop(labels=\n",
    "                       df_temp_stats.columns[df_temp_stats.columns.str.contains('Min|Max')], \n",
    "                       axis='columns')\n",
    "\n",
    "\n",
    "df_temp = df_temp.merge(df_temp_stats, how='left', on='SID')"
   ]
  },
  {
   "cell_type": "code",
   "execution_count": null,
   "id": "0af9c608-eae7-457f-b3b9-9ff5dda60784",
   "metadata": {},
   "outputs": [],
   "source": [
    "# The second graph is for the awake of sleep\n",
    "corr_W = df_temp[df_temp['Sleep Stage']=='W'].drop(['Sleep Stage', 'SID'], axis='columns').corr()\n",
    "title = 'Correlation Heatmap for Awake Data'\n",
    "\n",
    "corr_heatmap(corr_W, 0.9, title)"
   ]
  },
  {
   "cell_type": "code",
   "execution_count": null,
   "id": "2154d6a5-6044-4638-b11d-66426690f93d",
   "metadata": {},
   "outputs": [],
   "source": [
    "# The second graph is for the N1 stage of NREM of sleep\n",
    "corr_W = df_temp[df_temp['Sleep Stage']=='N1'].drop(['Sleep Stage', 'SID'], axis='columns').corr()\n",
    "title = 'Correlation Heatmap for N1 Sleep Data'\n",
    "\n",
    "corr_heatmap(corr_W, 0.8, title)"
   ]
  },
  {
   "cell_type": "code",
   "execution_count": null,
   "id": "efec6e06-89fc-4cbf-b082-52f2ef8da658",
   "metadata": {},
   "outputs": [],
   "source": [
    "# The second graph is for the N2 stage of NREM of sleep\n",
    "corr_W = df_temp[df_temp['Sleep Stage']=='N2'].drop(['Sleep Stage', 'SID'], axis='columns').corr()\n",
    "title = 'Correlation Heatmap for N2 Sleep Data'\n",
    "\n",
    "corr_heatmap(corr_W, 0.9, title, 20)"
   ]
  },
  {
   "cell_type": "code",
   "execution_count": null,
   "id": "b800c659-00ba-4fd5-9465-f41cd46efff8",
   "metadata": {},
   "outputs": [],
   "source": [
    "# The second graph is for the N3 stage of NREM of sleep\n",
    "corr_W = df_temp[df_temp['Sleep Stage']=='N3'].drop(['Sleep Stage', 'SID'], axis='columns').corr()\n",
    "title = 'Correlation Heatmap for N3 Sleep Data'\n",
    "\n",
    "corr_heatmap(corr_W, 0.9, title)"
   ]
  },
  {
   "cell_type": "code",
   "execution_count": null,
   "id": "01ac8e2f-09ea-4f3e-bce0-5acfd5ae46b1",
   "metadata": {},
   "outputs": [],
   "source": [
    "# The third graph is for the aggregate of all stages of NREM sleep\n",
    "\n",
    "N_list = ['N1', 'N2', 'N3']\n",
    "\n",
    "corr_N = df_temp[df_temp['Sleep Stage'].isin(N_list)].drop(['Sleep Stage', 'SID'], axis='columns').corr()\n",
    "title = 'Correlation Heatmap for Non-REM Sleep Data'\n",
    "\n",
    "\n",
    "corr_heatmap(corr_N, 0.85, title)"
   ]
  },
  {
   "cell_type": "code",
   "execution_count": null,
   "id": "e4e1144d-1271-4501-a422-6db6a27fb869",
   "metadata": {},
   "outputs": [],
   "source": [
    "# The first graph is for the REM stage of sleep\n",
    "corr_R = df_temp[df_temp['Sleep Stage']=='R'].drop(['Sleep Stage', 'SID'], axis='columns').corr()\n",
    "title = 'Correlation Heatmap for REM Sleep Data'\n",
    "\n",
    "corr_heatmap(corr_R, 0.9, title)"
   ]
  },
  {
   "cell_type": "code",
   "execution_count": null,
   "id": "64d6d58d-e589-40f9-8c2a-702c603f8e3d",
   "metadata": {
    "scrolled": true
   },
   "outputs": [],
   "source": [
    "# This graph contains the aggregate of all data without segmenting into sleep stages\n",
    "\n",
    "corr = df_temp.drop(['Sleep Stage', 'SID'], axis='columns').corr()\n",
    "title = 'Correlation Heatmap for Total Data'\n",
    "\n",
    "\n",
    "corr_heatmap(corr, 0.85, title)"
   ]
  }
 ],
 "metadata": {
  "kernelspec": {
   "display_name": "Python 3 (ipykernel)",
   "language": "python",
   "name": "python3"
  },
  "language_info": {
   "codemirror_mode": {
    "name": "ipython",
    "version": 3
   },
   "file_extension": ".py",
   "mimetype": "text/x-python",
   "name": "python",
   "nbconvert_exporter": "python",
   "pygments_lexer": "ipython3",
   "version": "3.12.7"
  }
 },
 "nbformat": 4,
 "nbformat_minor": 5
}
